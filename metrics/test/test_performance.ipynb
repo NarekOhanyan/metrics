{
 "cells": [
  {
   "cell_type": "code",
   "execution_count": 1,
   "metadata": {},
   "outputs": [],
   "source": [
    "import sys\n",
    "import numpy as np\n",
    "import pandas as pd\n",
    "import datetime as dt"
   ]
  },
  {
   "cell_type": "code",
   "execution_count": 2,
   "metadata": {},
   "outputs": [
    {
     "data": {
      "text/plain": [
       "<module 'metrics' from '/Users/narek/Research/library/metrics/metrics/test/../metrics.py'>"
      ]
     },
     "execution_count": 2,
     "metadata": {},
     "output_type": "execute_result"
    }
   ],
   "source": [
    "import importlib\n",
    "sys.path.append(\"../\")\n",
    "import metrics\n",
    "importlib.reload(metrics)"
   ]
  },
  {
   "cell_type": "code",
   "execution_count": 3,
   "metadata": {},
   "outputs": [],
   "source": [
    "%load_ext line_profiler"
   ]
  },
  {
   "cell_type": "code",
   "execution_count": 4,
   "metadata": {},
   "outputs": [],
   "source": [
    "nC, nI = 1, 1\n",
    "nL, nLx, nLy, nH = 3, 4, 5, 24"
   ]
  },
  {
   "cell_type": "code",
   "execution_count": 5,
   "metadata": {},
   "outputs": [],
   "source": [
    "data = np.random.random((100, 10))\n",
    "Y, X, Z = data[:, :3].T, data[:, 3:7].T, data[:, 7:].T\n",
    "\n",
    "Ydata = pd.DataFrame(Y.T, index=pd.date_range(start=dt.datetime(2000, 1, 1), periods=100))\n",
    "Xdata = pd.DataFrame(X.T, index=pd.date_range(start=dt.datetime(2000, 1, 1), periods=100))"
   ]
  },
  {
   "cell_type": "code",
   "execution_count": 6,
   "metadata": {},
   "outputs": [
    {
     "name": "stdout",
     "output_type": "stream",
     "text": [
      "13.7 µs ± 25.6 ns per loop (mean ± std. dev. of 7 runs, 100,000 loops each)\n",
      "5.32 µs ± 16.9 ns per loop (mean ± std. dev. of 7 runs, 100,000 loops each)\n"
     ]
    }
   ],
   "source": [
    "metrics.ols_h_njit(Y[0], X)\n",
    "%timeit metrics.ols_h(Y[0], X)\n",
    "%timeit metrics.ols_h_njit(Y[0], X)"
   ]
  },
  {
   "cell_type": "code",
   "execution_count": 7,
   "metadata": {},
   "outputs": [
    {
     "name": "stdout",
     "output_type": "stream",
     "text": [
      "108 µs ± 52.3 µs per loop (mean ± std. dev. of 7 runs, 1 loop each)\n",
      "26.2 µs ± 42.2 ns per loop (mean ± std. dev. of 7 runs, 10,000 loops each)\n"
     ]
    }
   ],
   "source": [
    "metrics.ols_b_h_njit(Y, X)\n",
    "%timeit metrics.ols_b_h(Y, X)\n",
    "%timeit metrics.ols_b_h_njit(Y, X)"
   ]
  },
  {
   "cell_type": "code",
   "execution_count": 8,
   "metadata": {},
   "outputs": [
    {
     "name": "stdout",
     "output_type": "stream",
     "text": [
      "130 µs ± 57.1 µs per loop (mean ± std. dev. of 7 runs, 1 loop each)\n",
      "40.6 µs ± 804 ns per loop (mean ± std. dev. of 7 runs, 10,000 loops each)\n"
     ]
    }
   ],
   "source": [
    "metrics.fit_ardl_h_njit(Y[0:1], X, Z, nC, nI, nLy, nLx)\n",
    "%timeit metrics.fit_ardl_h(Y[0:1], X, Z, nC, nI, nLy, nLx)\n",
    "%timeit metrics.fit_ardl_h_njit(Y[0:1], X, Z, nC, nI, nLy, nLx)"
   ]
  },
  {
   "cell_type": "code",
   "execution_count": 9,
   "metadata": {},
   "outputs": [
    {
     "name": "stdout",
     "output_type": "stream",
     "text": [
      "99.3 µs ± 36.2 µs per loop (mean ± std. dev. of 7 runs, 1 loop each)\n",
      "59 µs ± 476 ns per loop (mean ± std. dev. of 7 runs, 10,000 loops each)\n"
     ]
    }
   ],
   "source": [
    "metrics.fit_var_h_njit(Y, nC, nL)\n",
    "%timeit metrics.fit_var_h(Y, nC, nL)\n",
    "%timeit metrics.fit_var_h_njit(Y, nC, nL)"
   ]
  },
  {
   "cell_type": "code",
   "execution_count": 10,
   "metadata": {},
   "outputs": [
    {
     "name": "stdout",
     "output_type": "stream",
     "text": [
      "84.7 µs ± 380 ns per loop (mean ± std. dev. of 7 runs, 10,000 loops each)\n",
      "36.7 µs ± 251 ns per loop (mean ± std. dev. of 7 runs, 10,000 loops each)\n"
     ]
    }
   ],
   "source": [
    "metrics.lpols_njit(Xdata=X, Ydata=Y, nL=nL, nH=nL)\n",
    "%timeit metrics.lpols(Xdata=X, Ydata=Y, nL=nL, nH=nL)\n",
    "%timeit metrics.lpols_njit(Xdata=X, Ydata=Y, nL=nL, nH=nL)"
   ]
  },
  {
   "cell_type": "markdown",
   "metadata": {},
   "source": [
    "### Irfs"
   ]
  },
  {
   "cell_type": "code",
   "execution_count": 12,
   "metadata": {},
   "outputs": [],
   "source": [
    "Mdl = metrics.VARm(Ydata, nL=nL).irf(ci='bs', nH=nH)\n",
    "Bc, Bx, B, U, S = Mdl.Est['Bc'], Mdl.Est['Bx'], Mdl.Est['B'], Mdl.Est['U'], Mdl.Est['S']\n",
    "A0inv = np.linalg.inv(S)\n",
    "Psi = metrics.get_Psi_from_Bx(Bx, nH)\n",
    "nL, nH = Mdl.Spec['nL'], Mdl.Irfs.Spec['nH']\n",
    "Y0 = Y[:, :nL]"
   ]
  },
  {
   "cell_type": "code",
   "execution_count": 13,
   "metadata": {},
   "outputs": [
    {
     "name": "stdout",
     "output_type": "stream",
     "text": [
      "229 µs ± 776 ns per loop (mean ± std. dev. of 7 runs, 1,000 loops each)\n",
      "27.1 µs ± 7.5 µs per loop (mean ± std. dev. of 7 runs, 1 loop each)\n"
     ]
    }
   ],
   "source": [
    "%timeit metrics.sim_var(Y0, Bc, Bx, U)\n",
    "%timeit metrics.sim_var_njit(Y0, Bc, Bx, U)"
   ]
  },
  {
   "cell_type": "code",
   "execution_count": 15,
   "metadata": {},
   "outputs": [
    {
     "name": "stdout",
     "output_type": "stream",
     "text": [
      "139 µs ± 2.19 µs per loop (mean ± std. dev. of 7 runs, 10,000 loops each)\n",
      "19.3 µs ± 426 ns per loop (mean ± std. dev. of 7 runs, 100,000 loops each)\n"
     ]
    }
   ],
   "source": [
    "%timeit metrics.get_Psi_from_Bx(Bx, nH)\n",
    "%timeit metrics.get_Psi_from_Bx_njit(Bx, nH)"
   ]
  },
  {
   "cell_type": "code",
   "execution_count": 16,
   "metadata": {},
   "outputs": [
    {
     "name": "stdout",
     "output_type": "stream",
     "text": [
      "9.53 µs ± 65.9 ns per loop (mean ± std. dev. of 7 runs, 100,000 loops each)\n"
     ]
    },
    {
     "name": "stderr",
     "output_type": "stream",
     "text": [
      "/Users/narek/Research/library/metrics/metrics/test/../metrics.py:1016: NumbaPerformanceWarning: '@' is faster on contiguous arrays, called on (Array(float64, 2, 'A', False, aligned=True), Array(float64, 2, 'C', False, aligned=True))\n",
      "  Irf[h] = Psi[h]@Impact\n"
     ]
    },
    {
     "name": "stdout",
     "output_type": "stream",
     "text": [
      "The slowest run took 9.94 times longer than the fastest. This could mean that an intermediate result is being cached.\n",
      "11.6 µs ± 13 µs per loop (mean ± std. dev. of 7 runs, 1 loop each)\n"
     ]
    }
   ],
   "source": [
    "%timeit metrics.get_sirf_from_irf(Bx, A0inv)\n",
    "%timeit metrics.get_sirf_from_irf_njit(Bx, A0inv)"
   ]
  },
  {
   "cell_type": "code",
   "execution_count": null,
   "metadata": {},
   "outputs": [
    {
     "name": "stdout",
     "output_type": "stream",
     "text": [
      "27.4 µs ± 158 ns per loop (mean ± std. dev. of 7 runs, 10,000 loops each)\n",
      "24.7 µs ± 235 ns per loop (mean ± std. dev. of 7 runs, 10,000 loops each)\n"
     ]
    }
   ],
   "source": [
    "%timeit metrics.get_irfs_VARm(Bx, A0inv, nH)\n",
    "%timeit metrics.get_irfs_VARm_njit(Bx, A0inv, nH)"
   ]
  },
  {
   "cell_type": "markdown",
   "metadata": {},
   "source": [
    "### Bootstrap vs Wild Bootstrap"
   ]
  },
  {
   "cell_type": "code",
   "execution_count": 14,
   "metadata": {},
   "outputs": [
    {
     "name": "stdout",
     "output_type": "stream",
     "text": [
      "Timer unit: 1e-09 s\n",
      "\n",
      "Total time: 0.015513 s\n",
      "File: /Users/narek/Research/library/metrics/metrics/test/../metrics.py\n",
      "Function: bs_irf at line 1026\n",
      "\n",
      "Line #      Hits         Time  Per Hit   % Time  Line Contents\n",
      "==============================================================\n",
      "  1026                                           def bs_irf(Y, U, B, /, *, model_spec, irf_spec):\n",
      "  1027       100      39000.0    390.0      0.3      nC, nL, nY, nT, dfc = model_spec['nC'], model_spec['nL'], model_spec['nY'], model_spec['nT'], model_spec['dfc']\n",
      "  1028       100      18000.0    180.0      0.1      nH, ci = irf_spec['nH'], irf_spec['ci']\n",
      "  1029       100      34000.0    340.0      0.2      Y0 = Y[:, :nL]\n",
      "  1030       100     789000.0   7890.0      5.1      Bc, Bx = split_C_B(B, nC, nL, nY)\n",
      "  1031       100      11000.0    110.0      0.1      if ci == 'bs':\n",
      "  1032       100    1221000.0  12210.0      7.9          idx_r = np.random.choice(nT, size=nT)\n",
      "  1033       100     559000.0   5590.0      3.6          U_ = U[:, idx_r]\n",
      "  1034       100      21000.0    210.0      0.1      if ci == 'wbs':\n",
      "  1035                                                   bs_dist = 'Rademacher'\n",
      "  1036                                                   if bs_dist == 'Rademacher':\n",
      "  1037                                                       rescale = np.random.choice((-1, 1), size=(1, nT))\n",
      "  1038                                                   if bs_dist == 'Normal':\n",
      "  1039                                                       rescale = np.random.normal(size=(1, nT))\n",
      "  1040                                                   U_ = U*rescale\n",
      "  1041       100      12000.0    120.0      0.1      if not use_numba:\n",
      "  1042                                                   Y_ = sim_var(Y0, Bc, Bx, U_)\n",
      "  1043                                                   B_, _, _, _, S_ = fit_var_h(Y_, nC, nL, dfc)\n",
      "  1044                                                   _, Bx_ = split_C_B(B_, nC, nL, nY)\n",
      "  1045                                                   A0inv_ = np.linalg.cholesky(S_)\n",
      "  1046                                                   ir_, irc_ = get_irfs_VARm(Bx_, A0inv_, nH)\n",
      "  1047                                               else:\n",
      "  1048       100    2482000.0  24820.0     16.0          Y_ = sim_var_njit(Y0, Bc, Bx, U_)\n",
      "  1049       100    6267000.0  62670.0     40.4          B_, _, _, _, S_ = fit_var_h_njit(Y_, nC, nL, dfc)\n",
      "  1050       100     218000.0   2180.0      1.4          _, Bx_ = split_C_B_njit(B_, nC, nL, nY)\n",
      "  1051       100     819000.0   8190.0      5.3          A0inv_ = np.linalg.cholesky(S_)\n",
      "  1052       100    3004000.0  30040.0     19.4          ir_, irc_ = get_irfs_VARm_njit(Bx_, A0inv_, nH)\n",
      "  1053       100      19000.0    190.0      0.1      return ir_, irc_"
     ]
    }
   ],
   "source": [
    "%lprun -f metrics.bs_irf Mdl.irf(ci='bs', nH=nH)"
   ]
  },
  {
   "cell_type": "code",
   "execution_count": 15,
   "metadata": {},
   "outputs": [
    {
     "name": "stdout",
     "output_type": "stream",
     "text": [
      "Timer unit: 1e-09 s\n",
      "\n",
      "Total time: 0.016992 s\n",
      "File: /Users/narek/Research/library/metrics/metrics/test/../metrics.py\n",
      "Function: bs_irf at line 1026\n",
      "\n",
      "Line #      Hits         Time  Per Hit   % Time  Line Contents\n",
      "==============================================================\n",
      "  1026                                           def bs_irf(Y, U, B, /, *, model_spec, irf_spec):\n",
      "  1027       100      43000.0    430.0      0.3      nC, nL, nY, nT, dfc = model_spec['nC'], model_spec['nL'], model_spec['nY'], model_spec['nT'], model_spec['dfc']\n",
      "  1028       100      18000.0    180.0      0.1      nH, ci = irf_spec['nH'], irf_spec['ci']\n",
      "  1029       100      43000.0    430.0      0.3      Y0 = Y[:, :nL]\n",
      "  1030       100    1043000.0  10430.0      6.1      Bc, Bx = split_C_B(B, nC, nL, nY)\n",
      "  1031       100      18000.0    180.0      0.1      if ci == 'bs':\n",
      "  1032                                                   idx_r = np.random.choice(nT, size=nT)\n",
      "  1033                                                   U_ = U[:, idx_r]\n",
      "  1034       100       8000.0     80.0      0.0      if ci == 'wbs':\n",
      "  1035       100       9000.0     90.0      0.1          bs_dist = 'Rademacher'\n",
      "  1036       100      12000.0    120.0      0.1          if bs_dist == 'Rademacher':\n",
      "  1037       100    1564000.0  15640.0      9.2              rescale = np.random.choice((-1, 1), size=(1, nT))\n",
      "  1038       100      19000.0    190.0      0.1          if bs_dist == 'Normal':\n",
      "  1039                                                       rescale = np.random.normal(size=(1, nT))\n",
      "  1040       100     182000.0   1820.0      1.1          U_ = U*rescale\n",
      "  1041       100      21000.0    210.0      0.1      if not use_numba:\n",
      "  1042                                                   Y_ = sim_var(Y0, Bc, Bx, U_)\n",
      "  1043                                                   B_, _, _, _, S_ = fit_var_h(Y_, nC, nL, dfc)\n",
      "  1044                                                   _, Bx_ = split_C_B(B_, nC, nL, nY)\n",
      "  1045                                                   A0inv_ = np.linalg.cholesky(S_)\n",
      "  1046                                                   ir_, irc_ = get_irfs_VARm(Bx_, A0inv_, nH)\n",
      "  1047                                               else:\n",
      "  1048       100    2550000.0  25500.0     15.0          Y_ = sim_var_njit(Y0, Bc, Bx, U_)\n",
      "  1049       100    7053000.0  70530.0     41.5          B_, _, _, _, S_ = fit_var_h_njit(Y_, nC, nL, dfc)\n",
      "  1050       100     241000.0   2410.0      1.4          _, Bx_ = split_C_B_njit(B_, nC, nL, nY)\n",
      "  1051       100     962000.0   9620.0      5.7          A0inv_ = np.linalg.cholesky(S_)\n",
      "  1052       100    3183000.0  31830.0     18.7          ir_, irc_ = get_irfs_VARm_njit(Bx_, A0inv_, nH)\n",
      "  1053       100      23000.0    230.0      0.1      return ir_, irc_"
     ]
    }
   ],
   "source": [
    "%lprun -f metrics.bs_irf Mdl.irf(ci='wbs', nH=nH)"
   ]
  },
  {
   "cell_type": "code",
   "execution_count": null,
   "metadata": {},
   "outputs": [],
   "source": []
  }
 ],
 "metadata": {
  "kernelspec": {
   "display_name": "Python 3",
   "language": "python",
   "name": "python3"
  },
  "language_info": {
   "codemirror_mode": {
    "name": "ipython",
    "version": 3
   },
   "file_extension": ".py",
   "mimetype": "text/x-python",
   "name": "python",
   "nbconvert_exporter": "python",
   "pygments_lexer": "ipython3",
   "version": "3.11.10"
  }
 },
 "nbformat": 4,
 "nbformat_minor": 2
}
