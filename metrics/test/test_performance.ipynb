{
 "cells": [
  {
   "cell_type": "code",
   "execution_count": 1,
   "metadata": {},
   "outputs": [],
   "source": [
    "import sys\n",
    "import numpy as np\n",
    "import pandas as pd\n",
    "import datetime as dt"
   ]
  },
  {
   "cell_type": "code",
   "execution_count": 2,
   "metadata": {},
   "outputs": [
    {
     "data": {
      "text/plain": [
       "<module 'metrics' from '/Users/narek/Research/library/metrics/metrics/test/../metrics.py'>"
      ]
     },
     "execution_count": 2,
     "metadata": {},
     "output_type": "execute_result"
    }
   ],
   "source": [
    "import importlib\n",
    "sys.path.append(\"../\")\n",
    "import metrics\n",
    "importlib.reload(metrics)"
   ]
  },
  {
   "cell_type": "code",
   "execution_count": 3,
   "metadata": {},
   "outputs": [],
   "source": [
    "%load_ext line_profiler"
   ]
  },
  {
   "cell_type": "code",
   "execution_count": 4,
   "metadata": {},
   "outputs": [],
   "source": [
    "nC, nI = 1, 1\n",
    "nL, nLx, nLy, nH = 3, 4, 5, 24"
   ]
  },
  {
   "cell_type": "code",
   "execution_count": 5,
   "metadata": {},
   "outputs": [],
   "source": [
    "data = np.random.random((100, 10))\n",
    "Y, X, Z = data[:, :3].T, data[:, 3:7].T, data[:, 7:].T\n",
    "\n",
    "Ydata = pd.DataFrame(Y.T, index=pd.date_range(start=dt.datetime(2000, 1, 1), periods=100))\n",
    "Xdata = pd.DataFrame(X.T, index=pd.date_range(start=dt.datetime(2000, 1, 1), periods=100))"
   ]
  },
  {
   "cell_type": "code",
   "execution_count": 6,
   "metadata": {},
   "outputs": [
    {
     "name": "stdout",
     "output_type": "stream",
     "text": [
      "14.1 µs ± 125 ns per loop (mean ± std. dev. of 7 runs, 100,000 loops each)\n",
      "4.89 µs ± 30.4 ns per loop (mean ± std. dev. of 7 runs, 100,000 loops each)\n"
     ]
    }
   ],
   "source": [
    "metrics.ols_h_njit(Y[0], X)\n",
    "%timeit metrics.ols_h(Y[0], X)\n",
    "%timeit metrics.ols_h_njit(Y[0], X)"
   ]
  },
  {
   "cell_type": "code",
   "execution_count": 7,
   "metadata": {},
   "outputs": [
    {
     "name": "stdout",
     "output_type": "stream",
     "text": [
      "65.4 µs ± 23.4 µs per loop (mean ± std. dev. of 7 runs, 1 loop each)\n",
      "25 µs ± 144 ns per loop (mean ± std. dev. of 7 runs, 10,000 loops each)\n"
     ]
    }
   ],
   "source": [
    "metrics.ols_b_h_njit(Y, X)\n",
    "%timeit metrics.ols_b_h(Y, X)\n",
    "%timeit metrics.ols_b_h_njit(Y, X)"
   ]
  },
  {
   "cell_type": "code",
   "execution_count": 8,
   "metadata": {},
   "outputs": [
    {
     "name": "stdout",
     "output_type": "stream",
     "text": [
      "113 µs ± 41.6 µs per loop (mean ± std. dev. of 7 runs, 1 loop each)\n",
      "39.1 µs ± 127 ns per loop (mean ± std. dev. of 7 runs, 10,000 loops each)\n"
     ]
    }
   ],
   "source": [
    "metrics.fit_ardl_h_njit(Y[0:1], X, Z, nC, nI, nLy, nLx)\n",
    "%timeit metrics.fit_ardl_h(Y[0:1], X, Z, nC, nI, nLy, nLx)\n",
    "%timeit metrics.fit_ardl_h_njit(Y[0:1], X, Z, nC, nI, nLy, nLx)"
   ]
  },
  {
   "cell_type": "code",
   "execution_count": 9,
   "metadata": {},
   "outputs": [
    {
     "name": "stdout",
     "output_type": "stream",
     "text": [
      "99.2 µs ± 43.3 µs per loop (mean ± std. dev. of 7 runs, 1 loop each)\n",
      "60.5 µs ± 293 ns per loop (mean ± std. dev. of 7 runs, 10,000 loops each)\n"
     ]
    }
   ],
   "source": [
    "metrics.fit_var_h_njit(Y, nC, nL)\n",
    "%timeit metrics.fit_var_h(Y, nC, nL)\n",
    "%timeit metrics.fit_var_h_njit(Y, nC, nL)"
   ]
  },
  {
   "cell_type": "code",
   "execution_count": 10,
   "metadata": {},
   "outputs": [
    {
     "name": "stdout",
     "output_type": "stream",
     "text": [
      "217 µs ± 27.3 µs per loop (mean ± std. dev. of 7 runs, 1,000 loops each)\n",
      "88.2 µs ± 3.04 µs per loop (mean ± std. dev. of 7 runs, 10,000 loops each)\n"
     ]
    }
   ],
   "source": [
    "metrics.lpols_njit(Ydata=Y, Xdata=X, nL=nL, nH=nH)\n",
    "%timeit metrics.lpols(Ydata=Y, Xdata=X, nL=nL, nH=nH)\n",
    "%timeit metrics.lpols_njit(Ydata=Y, Xdata=X, nL=nL, nH=nH)"
   ]
  },
  {
   "cell_type": "markdown",
   "metadata": {},
   "source": [
    "### Irfs"
   ]
  },
  {
   "cell_type": "code",
   "execution_count": 11,
   "metadata": {},
   "outputs": [],
   "source": [
    "Mdl = metrics.VARm(Ydata, nL=nL).irf(ci='bs', nH=nH)\n",
    "Bc, Bx, B, U, S = Mdl.Est['Bc'], Mdl.Est['Bx'], Mdl.Est['B'], Mdl.Est['U'], Mdl.Est['S']\n",
    "A0inv = np.linalg.inv(S)\n",
    "Psi = metrics.get_Psi_from_Bx(Bx, nH)\n",
    "nL, nH = Mdl.Spec['nL'], Mdl.Irfs.Spec['nH']\n",
    "Y0 = Y[:, :nL]"
   ]
  },
  {
   "cell_type": "code",
   "execution_count": 12,
   "metadata": {},
   "outputs": [
    {
     "name": "stdout",
     "output_type": "stream",
     "text": [
      "229 µs ± 1.2 µs per loop (mean ± std. dev. of 7 runs, 1,000 loops each)\n",
      "28.4 µs ± 12.1 µs per loop (mean ± std. dev. of 7 runs, 1 loop each)\n"
     ]
    }
   ],
   "source": [
    "%timeit metrics.sim_var(Y0, Bc, Bx, U)\n",
    "%timeit metrics.sim_var_njit(Y0, Bc, Bx, U)"
   ]
  },
  {
   "cell_type": "code",
   "execution_count": 13,
   "metadata": {},
   "outputs": [
    {
     "name": "stdout",
     "output_type": "stream",
     "text": [
      "139 µs ± 1.21 µs per loop (mean ± std. dev. of 7 runs, 10,000 loops each)\n",
      "18.9 µs ± 273 ns per loop (mean ± std. dev. of 7 runs, 100,000 loops each)\n"
     ]
    }
   ],
   "source": [
    "%timeit metrics.get_Psi_from_Bx(Bx, nH)\n",
    "%timeit metrics.get_Psi_from_Bx_njit(Bx, nH)"
   ]
  },
  {
   "cell_type": "code",
   "execution_count": 14,
   "metadata": {},
   "outputs": [
    {
     "name": "stdout",
     "output_type": "stream",
     "text": [
      "12.7 µs ± 315 ns per loop (mean ± std. dev. of 7 runs, 100,000 loops each)\n",
      "The slowest run took 9.63 times longer than the fastest. This could mean that an intermediate result is being cached.\n",
      "10.6 µs ± 13.4 µs per loop (mean ± std. dev. of 7 runs, 1 loop each)\n"
     ]
    }
   ],
   "source": [
    "%timeit metrics.get_sirf_from_irf(Bx, A0inv)\n",
    "%timeit metrics.get_sirf_from_irf_njit(Bx, A0inv)"
   ]
  },
  {
   "cell_type": "code",
   "execution_count": 15,
   "metadata": {},
   "outputs": [
    {
     "name": "stdout",
     "output_type": "stream",
     "text": [
      "28.1 µs ± 231 ns per loop (mean ± std. dev. of 7 runs, 10,000 loops each)\n",
      "25.5 µs ± 198 ns per loop (mean ± std. dev. of 7 runs, 10,000 loops each)\n"
     ]
    }
   ],
   "source": [
    "%timeit metrics.get_irfs_VARm(Bx, A0inv, nH)\n",
    "%timeit metrics.get_irfs_VARm_njit(Bx, A0inv, nH)"
   ]
  },
  {
   "cell_type": "markdown",
   "metadata": {},
   "source": [
    "### Bootstrap vs Wild Bootstrap"
   ]
  },
  {
   "cell_type": "code",
   "execution_count": 16,
   "metadata": {},
   "outputs": [
    {
     "name": "stdout",
     "output_type": "stream",
     "text": [
      "Timer unit: 1e-09 s\n",
      "\n",
      "Total time: 0.017682 s\n",
      "File: /Users/narek/Research/library/metrics/metrics/test/../metrics.py\n",
      "Function: bs_irf at line 1025\n",
      "\n",
      "Line #      Hits         Time  Per Hit   % Time  Line Contents\n",
      "==============================================================\n",
      "  1025                                           def bs_irf(Y, U, B, /, *, model_spec, irf_spec, bs_dist = 'Rademacher'):\n",
      "  1026       100      45000.0    450.0      0.3      nC, nL, nY, nT, dfc = model_spec['nC'], model_spec['nL'], model_spec['nY'], model_spec['nT'], model_spec['dfc']\n",
      "  1027       100      16000.0    160.0      0.1      nH, ci = irf_spec['nH'], irf_spec['ci']\n",
      "  1028       100      38000.0    380.0      0.2      Y0 = Y[:, :nL]\n",
      "  1029       100     958000.0   9580.0      5.4      Bc, Bx = split_C_B(B, nC, nL, nY)\n",
      "  1030       100      16000.0    160.0      0.1      if ci == 'bs':\n",
      "  1031       100    1539000.0  15390.0      8.7          idx_r = np.random.choice(nT, size=nT)\n",
      "  1032       100     472000.0   4720.0      2.7          U_ = U[:, idx_r]\n",
      "  1033       100      21000.0    210.0      0.1      if ci == 'wbs':\n",
      "  1034                                                   if bs_dist == 'Rademacher':\n",
      "  1035                                                       rescale = np.random.choice((-1, 1), size=(1, nT))\n",
      "  1036                                                   if bs_dist == 'Normal':\n",
      "  1037                                                       rescale = np.random.normal(size=(1, nT))\n",
      "  1038                                                   U_ = U*rescale\n",
      "  1039       100      16000.0    160.0      0.1      if not use_numba:\n",
      "  1040                                                   Y_ = sim_var(Y0, Bc, Bx, U_)\n",
      "  1041                                                   B_, _, _, _, S_ = fit_var_h(Y_, nC, nL, dfc)\n",
      "  1042                                                   _, Bx_ = split_C_B(B_, nC, nL, nY)\n",
      "  1043                                                   A0inv_ = np.linalg.cholesky(S_)\n",
      "  1044                                                   ir_, irc_ = get_irfs_VARm(Bx_, A0inv_, nH)\n",
      "  1045                                               else:\n",
      "  1046       100    2879000.0  28790.0     16.3          Y_ = sim_var_njit(Y0, Bc, Bx, U_)\n",
      "  1047       100    6882000.0  68820.0     38.9          B_, _, _, _, S_ = fit_var_h_njit(Y_, nC, nL, dfc)\n",
      "  1048       100     308000.0   3080.0      1.7          _, Bx_ = split_C_B_njit(B_, nC, nL, nY)\n",
      "  1049       100    1087000.0  10870.0      6.1          A0inv_ = np.linalg.cholesky(S_)\n",
      "  1050       100    3376000.0  33760.0     19.1          ir_, irc_ = get_irfs_VARm_njit(Bx_, A0inv_, nH)\n",
      "  1051       100      29000.0    290.0      0.2      return ir_, irc_"
     ]
    }
   ],
   "source": [
    "%lprun -f metrics.bs_irf Mdl.irf(ci='bs', nH=nH)"
   ]
  },
  {
   "cell_type": "code",
   "execution_count": 17,
   "metadata": {},
   "outputs": [
    {
     "name": "stdout",
     "output_type": "stream",
     "text": [
      "Timer unit: 1e-09 s\n",
      "\n",
      "Total time: 0.016979 s\n",
      "File: /Users/narek/Research/library/metrics/metrics/test/../metrics.py\n",
      "Function: bs_irf at line 1025\n",
      "\n",
      "Line #      Hits         Time  Per Hit   % Time  Line Contents\n",
      "==============================================================\n",
      "  1025                                           def bs_irf(Y, U, B, /, *, model_spec, irf_spec, bs_dist = 'Rademacher'):\n",
      "  1026       100      47000.0    470.0      0.3      nC, nL, nY, nT, dfc = model_spec['nC'], model_spec['nL'], model_spec['nY'], model_spec['nT'], model_spec['dfc']\n",
      "  1027       100      27000.0    270.0      0.2      nH, ci = irf_spec['nH'], irf_spec['ci']\n",
      "  1028       100      34000.0    340.0      0.2      Y0 = Y[:, :nL]\n",
      "  1029       100     923000.0   9230.0      5.4      Bc, Bx = split_C_B(B, nC, nL, nY)\n",
      "  1030       100      17000.0    170.0      0.1      if ci == 'bs':\n",
      "  1031                                                   idx_r = np.random.choice(nT, size=nT)\n",
      "  1032                                                   U_ = U[:, idx_r]\n",
      "  1033       100      16000.0    160.0      0.1      if ci == 'wbs':\n",
      "  1034       100       4000.0     40.0      0.0          if bs_dist == 'Rademacher':\n",
      "  1035       100    1491000.0  14910.0      8.8              rescale = np.random.choice((-1, 1), size=(1, nT))\n",
      "  1036       100      19000.0    190.0      0.1          if bs_dist == 'Normal':\n",
      "  1037                                                       rescale = np.random.normal(size=(1, nT))\n",
      "  1038       100     169000.0   1690.0      1.0          U_ = U*rescale\n",
      "  1039       100      16000.0    160.0      0.1      if not use_numba:\n",
      "  1040                                                   Y_ = sim_var(Y0, Bc, Bx, U_)\n",
      "  1041                                                   B_, _, _, _, S_ = fit_var_h(Y_, nC, nL, dfc)\n",
      "  1042                                                   _, Bx_ = split_C_B(B_, nC, nL, nY)\n",
      "  1043                                                   A0inv_ = np.linalg.cholesky(S_)\n",
      "  1044                                                   ir_, irc_ = get_irfs_VARm(Bx_, A0inv_, nH)\n",
      "  1045                                               else:\n",
      "  1046       100    2769000.0  27690.0     16.3          Y_ = sim_var_njit(Y0, Bc, Bx, U_)\n",
      "  1047       100    6795000.0  67950.0     40.0          B_, _, _, _, S_ = fit_var_h_njit(Y_, nC, nL, dfc)\n",
      "  1048       100     243000.0   2430.0      1.4          _, Bx_ = split_C_B_njit(B_, nC, nL, nY)\n",
      "  1049       100     902000.0   9020.0      5.3          A0inv_ = np.linalg.cholesky(S_)\n",
      "  1050       100    3477000.0  34770.0     20.5          ir_, irc_ = get_irfs_VARm_njit(Bx_, A0inv_, nH)\n",
      "  1051       100      30000.0    300.0      0.2      return ir_, irc_"
     ]
    }
   ],
   "source": [
    "%lprun -f metrics.bs_irf Mdl.irf(ci='wbs', nH=nH)"
   ]
  },
  {
   "cell_type": "code",
   "execution_count": null,
   "metadata": {},
   "outputs": [],
   "source": []
  }
 ],
 "metadata": {
  "kernelspec": {
   "display_name": "Python 3",
   "language": "python",
   "name": "python3"
  },
  "language_info": {
   "codemirror_mode": {
    "name": "ipython",
    "version": 3
   },
   "file_extension": ".py",
   "mimetype": "text/x-python",
   "name": "python",
   "nbconvert_exporter": "python",
   "pygments_lexer": "ipython3",
   "version": "3.11.10"
  }
 },
 "nbformat": 4,
 "nbformat_minor": 2
}
